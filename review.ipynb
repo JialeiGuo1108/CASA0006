{
 "cells": [
  {
   "cell_type": "markdown",
   "id": "7af79244-3a0a-4b9f-b6a2-5eeb9283929c",
   "metadata": {},
   "source": [
    "# Review\n"
   ]
  },
  {
   "cell_type": "code",
   "execution_count": null,
   "id": "de86ef58-b2c5-45a6-81f4-27c7e6c07e04",
   "metadata": {},
   "outputs": [],
   "source": []
  },
  {
   "cell_type": "code",
   "execution_count": null,
   "id": "9c837a6d-431f-4c83-8811-9640c4c37101",
   "metadata": {},
   "outputs": [],
   "source": [
    "#修改列名"
   ]
  }
 ],
 "metadata": {
  "kernelspec": {
   "display_name": "Python (base)",
   "language": "python",
   "name": "base"
  },
  "language_info": {
   "codemirror_mode": {
    "name": "ipython",
    "version": 3
   },
   "file_extension": ".py",
   "mimetype": "text/x-python",
   "name": "python",
   "nbconvert_exporter": "python",
   "pygments_lexer": "ipython3",
   "version": "3.11.9"
  }
 },
 "nbformat": 4,
 "nbformat_minor": 5
}
